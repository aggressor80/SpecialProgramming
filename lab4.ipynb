{
 "cells": [
  {
   "cell_type": "code",
   "id": "6cd45a3091692dd9",
   "metadata": {
    "ExecuteTime": {
     "end_time": "2024-12-02T11:34:59.196049Z",
     "start_time": "2024-12-02T11:34:53.875666Z"
    }
   },
   "source": [
    "import pandas as pd\n",
    "import numpy as np\n",
    "from datetime import time"
   ],
   "outputs": [],
   "execution_count": 1
  },
  {
   "metadata": {
    "ExecuteTime": {
     "end_time": "2024-12-02T11:35:11.473043Z",
     "start_time": "2024-12-02T11:35:03.401041Z"
    }
   },
   "cell_type": "code",
   "source": [
    "df = pd.read_csv('household_power_consumption.txt', sep=';', dayfirst=True, na_values=['?'])\n",
    "df['Time'] = pd.to_datetime(df['Time'], format='%H:%M:%S').dt.time\n",
    "df = df.dropna(axis=0, how='all')"
   ],
   "id": "5645c9cde56b76e0",
   "outputs": [],
   "execution_count": 2
  },
  {
   "metadata": {
    "ExecuteTime": {
     "end_time": "2024-12-02T13:13:50.935183Z",
     "start_time": "2024-12-02T13:13:50.920626Z"
    }
   },
   "cell_type": "code",
   "source": [
    "%%time\n",
    "# Завдання1\n",
    "df_1 = df[df['Global_active_power']>5]\n",
    "\n",
    "df_1"
   ],
   "id": "6072a75e4f52194",
   "outputs": [
    {
     "name": "stdout",
     "output_type": "stream",
     "text": [
      "CPU times: total: 0 ns\n",
      "Wall time: 7.49 ms\n"
     ]
    }
   ],
   "execution_count": 14
  },
  {
   "metadata": {
    "ExecuteTime": {
     "end_time": "2024-12-02T13:14:02.924221Z",
     "start_time": "2024-12-02T13:14:02.806360Z"
    }
   },
   "cell_type": "code",
   "source": [
    "%%time\n",
    "# Завдання2\n",
    "df_2 = df[df['Voltage']>235]\n",
    "\n",
    "df_2"
   ],
   "id": "c58224bd45b6f5df",
   "outputs": [
    {
     "name": "stdout",
     "output_type": "stream",
     "text": [
      "CPU times: total: 78.1 ms\n",
      "Wall time: 112 ms\n"
     ]
    }
   ],
   "execution_count": 16
  },
  {
   "metadata": {
    "ExecuteTime": {
     "end_time": "2024-12-02T13:14:11.072062Z",
     "start_time": "2024-12-02T13:14:11.013040Z"
    }
   },
   "cell_type": "code",
   "source": [
    "%%time\n",
    "# Завдання3\n",
    "df_3 = df[df['Global_intensity'].between(19, 20) & (df['Sub_metering_2'] > df['Sub_metering_3'])]\n",
    "\n",
    "df_3"
   ],
   "id": "5e7c06b62363ed17",
   "outputs": [
    {
     "name": "stdout",
     "output_type": "stream",
     "text": [
      "CPU times: total: 15.6 ms\n",
      "Wall time: 35 ms\n"
     ]
    }
   ],
   "execution_count": 18
  },
  {
   "metadata": {
    "ExecuteTime": {
     "end_time": "2024-12-02T13:14:21.509946Z",
     "start_time": "2024-12-02T13:14:21.184740Z"
    }
   },
   "cell_type": "code",
   "source": [
    "%%time\n",
    "# Завдання4\n",
    "df_4 = df.sample(n=500000, random_state=1)[['Sub_metering_1', 'Sub_metering_2', 'Sub_metering_3']].mean()\n",
    "\n",
    "df_4"
   ],
   "id": "cf627910e483fd8d",
   "outputs": [
    {
     "name": "stdout",
     "output_type": "stream",
     "text": [
      "CPU times: total: 62.5 ms\n",
      "Wall time: 319 ms\n"
     ]
    }
   ],
   "execution_count": 20
  },
  {
   "metadata": {
    "ExecuteTime": {
     "end_time": "2024-12-02T13:14:30.109569Z",
     "start_time": "2024-12-02T13:14:29.952506Z"
    }
   },
   "cell_type": "code",
   "source": [
    "%%time\n",
    "# Завдання5\n",
    "new_df = df[df['Time'] >= time(18, 0)]\n",
    "new_df = new_df[new_df['Global_active_power'] > 6]\n",
    "new_df = new_df[\n",
    "    (new_df['Sub_metering_2'] > new_df['Sub_metering_1']) &\n",
    "    (new_df['Sub_metering_2'] > new_df['Sub_metering_3'])\n",
    "]\n",
    "half_1 = new_df.iloc[:(len(new_df)//2)]\n",
    "half_2 = new_df.iloc[(len(new_df)//2):]\n",
    "new_half_1 = half_1.iloc[::3]\n",
    "new_half_2 = half_2.iloc[::4]\n",
    "df_5 = pd.concat([new_half_1, new_half_2])\n",
    "\n",
    "df_5"
   ],
   "id": "eccc755b1fd5c36f",
   "outputs": [
    {
     "name": "stdout",
     "output_type": "stream",
     "text": [
      "CPU times: total: 15.6 ms\n",
      "Wall time: 149 ms\n"
     ]
    }
   ],
   "execution_count": 22
  },
  {
   "metadata": {
    "ExecuteTime": {
     "end_time": "2024-12-02T13:11:53.865170Z",
     "start_time": "2024-12-02T13:11:40.552721Z"
    }
   },
   "cell_type": "code",
   "source": [
    "types = [('Date', 'U10'), ('Time', 'U8'), ('Global_active_power', 'float64'),\n",
    "         ('Global_reactive_power', 'float64'), ('Voltage', 'float64'),\n",
    "         ('Global_intensity', 'float64'), ('Sub_metering_1', 'float64'),\n",
    "         ('Sub_metering_2', 'float64'), ('Sub_metering_3', 'float64')]\n",
    "ar = np.genfromtxt('household_power_consumption.txt', missing_values=['?',np.nan],\n",
    "delimiter=';', dtype=types, encoding='UTF=8', names=True)"
   ],
   "id": "937d602b21ba4a50",
   "outputs": [],
   "execution_count": 11
  },
  {
   "metadata": {},
   "cell_type": "code",
   "source": [
    "%%time\n",
    "# Завдання1\n",
    "ar1 = ar[ar['Global_active_power'] > 5.0]"
   ],
   "id": "82ac9edc2a76439d",
   "outputs": [],
   "execution_count": null
  },
  {
   "metadata": {},
   "cell_type": "code",
   "outputs": [],
   "execution_count": null,
   "source": [
    "%%time\n",
    "# Завдання2\n",
    "ar2 = ar[ar['Voltage'] > 235]"
   ],
   "id": "b8fc5651a0ccde5f"
  },
  {
   "metadata": {},
   "cell_type": "code",
   "outputs": [],
   "execution_count": null,
   "source": [
    "%%time\n",
    "# Завдання3\n",
    "ar3 = ar[(ar['Global_intensity'] >= 19) &\n",
    "                                 (ar['Global_intensity'] <= 20) &\n",
    "                                 (ar['Sub_metering_2'] > ar['Sub_metering_3'])]"
   ],
   "id": "ff5de3560dd5196d"
  },
  {
   "metadata": {},
   "cell_type": "code",
   "outputs": [],
   "execution_count": null,
   "source": [
    "%%time\n",
    "# Завдання4\n",
    "data = ar[np.random.choice(len(ar), size=500000, replace=False)]\n",
    "avg1 = np.nanmean(data['Sub_metering_1'])\n",
    "avg2 = np.nanmean(data['Sub_metering_2'])\n",
    "avg3 = np.nanmean(data['Sub_metering_3'])"
   ],
   "id": "8ae6ff337dfabec3"
  },
  {
   "metadata": {
    "collapsed": true,
    "ExecuteTime": {
     "end_time": "2024-12-02T13:25:11.827500Z",
     "start_time": "2024-12-02T13:25:08.944773Z"
    }
   },
   "cell_type": "code",
   "outputs": [
    {
     "name": "stdout",
     "output_type": "stream",
     "text": [
      "[('16/12/2006', '17:25:00', 5.36 , 0.436, 233.63, 23. , 0., 1., 16.)\n",
      " ('16/12/2006', '17:26:00', 5.374, 0.498, 233.29, 23. , 0., 2., 17.)\n",
      " ('16/12/2006', '17:27:00', 5.388, 0.502, 233.74, 23. , 0., 1., 17.)\n",
      " ('16/12/2006', '17:35:00', 5.412, 0.47 , 232.78, 23.2, 0., 1., 17.)\n",
      " ('16/12/2006', '17:36:00', 5.224, 0.478, 232.99, 22.4, 0., 1., 16.)\n",
      " ('16/12/2006', '17:37:00', 5.268, 0.398, 232.91, 22.6, 0., 2., 17.)\n",
      " ('16/12/2006', '17:44:00', 5.894, 0.   , 232.69, 25.4, 0., 0., 16.)\n",
      " ('16/12/2006', '17:45:00', 7.706, 0.   , 230.98, 33.2, 0., 0., 17.)\n",
      " ('16/12/2006', '17:46:00', 7.026, 0.   , 232.21, 30.6, 0., 0., 16.)\n",
      " ('16/12/2006', '17:47:00', 5.174, 0.   , 234.19, 22. , 0., 0., 17.)]\n",
      "CPU times: total: 844 ms\n",
      "Wall time: 2.87 s\n"
     ]
    }
   ],
   "execution_count": 26,
   "source": [
    "%%time\n",
    "# Завдання5\n",
    "after_6pm = np.array([int(i.split(':')[0]) >= 18 for i in ar['Time']])\n",
    "after6 = ar[after_6pm]\n",
    "\n",
    "after6 = after6[after6['Global_active_power'] > 6.0]\n",
    "\n",
    "after6 = after6[\n",
    "        (after6['Sub_metering_2'] > after6['Sub_metering_1']) &\n",
    "        (after6['Sub_metering_2'] > after6['Sub_metering_3'])\n",
    "]\n",
    "\n",
    "mid_ind = len(after6) // 2\n",
    "half_1 = after6[:mid_ind]\n",
    "half_2 = after6[mid_ind:]\n",
    "\n",
    "new_half_1 = half_1[::3]\n",
    "new_half_2 = half_2[::4]\n",
    "\n",
    "final = np.concatenate((new_half_1, new_half_2))"
   ],
   "id": "initial_id"
  }
 ],
 "metadata": {
  "kernelspec": {
   "display_name": "Python 3",
   "language": "python",
   "name": "python3"
  },
  "language_info": {
   "codemirror_mode": {
    "name": "ipython",
    "version": 2
   },
   "file_extension": ".py",
   "mimetype": "text/x-python",
   "name": "python",
   "nbconvert_exporter": "python",
   "pygments_lexer": "ipython2",
   "version": "2.7.6"
  }
 },
 "nbformat": 4,
 "nbformat_minor": 5
}
