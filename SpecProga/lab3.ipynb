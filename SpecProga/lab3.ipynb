{
 "cells": [
  {
   "metadata": {
    "collapsed": true,
    "ExecuteTime": {
     "end_time": "2024-11-16T12:31:50.184128Z",
     "start_time": "2024-11-16T12:31:48.384876Z"
    }
   },
   "cell_type": "code",
   "source": [
    "import pandas as pd\n",
    "from urllib import request\n",
    "import os\n",
    "from shutil import rmtree\n",
    "import re\n",
    "import __main__ as main \n",
    "main.__file__ = \"main_file\"\n",
    "from spyre import server"
   ],
   "id": "initial_id",
   "outputs": [
    {
     "name": "stderr",
     "output_type": "stream",
     "text": [
      "WARNING:root:Warning: unable to set defaultencoding to utf-8\n"
     ]
    }
   ],
   "execution_count": 1
  },
  {
   "metadata": {
    "ExecuteTime": {
     "end_time": "2024-11-16T12:31:50.207184Z",
     "start_time": "2024-11-16T12:31:50.200015Z"
    }
   },
   "cell_type": "code",
   "source": [
    "#створення дф, підготовка його\n",
    "def create_dataframe(csv_path, p_id):\n",
    "    headers = ['Year', 'Week', 'SMN', 'SMT', 'VCI', 'TCI', 'VHI', 'empty']\n",
    "    df = pd.read_csv(csv_path, header=1, names=headers)\n",
    "    df = df[df['VHI'] != -1]\n",
    "    df.at[0, 'Year'] = df.at[0, 'Year'][9:]\n",
    "    df = df.drop(columns='empty').drop(df.index[-1])\n",
    "    df['area'] = p_id\n",
    "    df['Year'] = df['Year'].astype(int)\n",
    "    return df"
   ],
   "id": "fd23fe9ac3637fbe",
   "outputs": [],
   "execution_count": 2
  },
  {
   "metadata": {
    "ExecuteTime": {
     "end_time": "2024-11-16T12:31:50.229764Z",
     "start_time": "2024-11-16T12:31:50.222754Z"
    }
   },
   "cell_type": "code",
   "source": [
    "#Збирає всі шляхи до файлів в папці дата\n",
    "def paths_list():\n",
    "    file_paths = []\n",
    "    for root, dirs, files in os.walk('data'):\n",
    "        for i in files:\n",
    "            file_paths.append(os.path.join(root, i))\n",
    "\n",
    "    return file_paths\n"
   ],
   "id": "e4022e245502c69a",
   "outputs": [],
   "execution_count": 3
  },
  {
   "metadata": {
    "ExecuteTime": {
     "end_time": "2024-11-16T12:31:50.773953Z",
     "start_time": "2024-11-16T12:31:50.564417Z"
    }
   },
   "cell_type": "code",
   "source": [
    "\n",
    "#Вилучає ідентифікатор провінції\n",
    "def get_p_id(file_path):\n",
    "    with open(file_path, 'r') as file:\n",
    "        first_line = file.readline()\n",
    "        match = re.search(r'Province\\s*=\\s*(\\d+)', first_line)\n",
    "        return int(match.group(1))\n",
    "\n",
    "\n",
    "#Заміна індексів\n",
    "provinces_dict = {1: 22, 2: 24, 3: 23, 4: 25, 5: 3, 6: 4,\n",
    "                  7: 8, 8: 19, 9: 20, 10: 21, 11: 9, 12: 9,\n",
    "                  13: 10, 14: 11, 15: 12, 16: 13, 17: 14,\n",
    "                  18: 15, 19: 16, 20: 25, 21: 17, 22: 18,\n",
    "                  23: 6, 24: 1, 25: 2, 26: 7, 27: 5}\n",
    "\n",
    "#Створення дф і об'єднання їх у мейн\n",
    "main_df = pd.DataFrame()\n",
    "for file_path in paths_list():\n",
    "    p_id = provinces_dict[get_p_id(file_path)]\n",
    "    df = create_dataframe(file_path, p_id)\n",
    "    main_df = pd.concat([main_df, df], ignore_index=True)"
   ],
   "id": "8f29fccc288ac3de",
   "outputs": [],
   "execution_count": 4
  },
  {
   "metadata": {
    "ExecuteTime": {
     "end_time": "2024-11-16T12:31:50.818126Z",
     "start_time": "2024-11-16T12:31:50.803340Z"
    }
   },
   "cell_type": "code",
   "source": [
    "class SimpleApp(server.App):\n",
    "    title = \"NOAA data visualization\"\n",
    "    inputs = [\n",
    "            { \"type\": 'dropdown',\n",
    "                    \"label\": \"NOAA data dropdown\",\n",
    "                    \"options\" : [ {\"label\": \"VCI\", \"value\":\"VCI\" },\n",
    "                        {\"label\":\"TCI\", \"value\":\"TCI\"},\n",
    "                        {\"label\":\"VHI\", \"value\":\"VHI\"}],\n",
    "                    \"key\": 'ticker',\n",
    "                    'value':'VHI',\n",
    "                    \"action_id\": \"update_data\"\n",
    "            },\n",
    "            {\n",
    "                        \"type\": 'dropdown',\n",
    "                        \"label\": \"NOAA \",\n",
    "                        \"options\" : [ {\"label\": \"1: Cherkasy\", \"value\":1 },\n",
    "                            {\"label\":\"2:Chernihiv\", \"value\":2},\n",
    "                            {\"label\":\"3:Chernivtsi\", \"value\":3},\n",
    "                            {\"label\":\"4:Crimea\", \"value\":\"4:Crimea\"},\n",
    "                            {\"label\":\"5:Dnipropetrovs`k\", \"value\":5},\n",
    "                            {\"label\":\"6:Donets`k\", \"value\":6},\n",
    "                            {\"label\":\"7:Ivano-Frankivsk\", \"value\":7},\n",
    "                            {\"label\":\"8:Kharkiv\", \"value\":8},\n",
    "                            {\"label\":\"9:Kherson\", \"value\":9},\n",
    "                            {\"label\":\"10:Khmelnytskyy\", \"value\":10},\n",
    "                            {\"label\":\"11:Kiev\", \"value\":11},\n",
    "                            {\"label\":\"12:Kiev City\", \"value\":12},\n",
    "                            {\"label\":\"13:Kirovohrad\", \"value\":13},\n",
    "                            {\"label\":\"14:Luhansk\", \"value\":14},\n",
    "                            {\"label\":\"15:L`viv\", \"value\":15},\n",
    "                            {\"label\":\"16:Mykolaiv\", \"value\":16},\n",
    "                            {\"label\":\"17:Odessa\", \"value\":17},\n",
    "                            {\"label\":\"18:Poltava\", \"value\":18},\n",
    "                            {\"label\":\"19:Rivne\", \"value\":19},\n",
    "                            {\"label\":\"20:Sevastopol`\", \"value\":20},\n",
    "                            {\"label\":\"21:Sumy\", \"value\":21},\n",
    "                            {\"label\":\"22:Ternopil\", \"value\":22},\n",
    "                            {\"label\":\"23:Transcarpathia\", \"value\":23},\n",
    "                            {\"label\":\"24:Vinnytsya\", \"value\":24},\n",
    "                            {\"label\":\"25:Volyn\", \"value\":25},\n",
    "                            {\"label\":\"26:Zaporizhzhya\", \"value\":26},\n",
    "                    ],\n",
    "                        \"key\": 'area',\n",
    "                        'value':6,\n",
    "                        \"action_id\": \"update_data\" \n",
    "            },{\n",
    "                            \"type\": 'slider',\n",
    "                            \"label\": 'Indicate the year of the beginning of the interval',\n",
    "                            \"min\": 1982, \"max\": 2024,\n",
    "                            \"value\": 1990,\n",
    "                            \"key\": 'year_first',\n",
    "                            \"action_id\": 'update_data'\n",
    "            },{\n",
    "                            \"type\": 'slider',\n",
    "                            \"label\": 'Indicate the year of the end  of the interval',\n",
    "                            \"min\": 1982, \"max\": 2024,\n",
    "                            \"value\": 2000,\n",
    "                            \"key\": 'year_second',\n",
    "                            \"action_id\": 'update_data'\n",
    "            },{\n",
    "                            \"type\": \"text\",\n",
    "                            \"label\": \"Specify the weekly interval\",\n",
    "                            \"action_id\": \"update_data\",\n",
    "                            \"value\": \"1,2\",\n",
    "                            \"key\":\"week\"\n",
    "            } \n",
    "                \n",
    "        ]\n",
    "    \n",
    "    controls = [{   \"control_type\" : \"hidden\",  \n",
    "                    \"label\" : \"NOAA\",\n",
    "                    \"control_id\" : \"update_data\"}]\n",
    "    \n",
    "    tabs = [\"Plot\", \"Table\"]\n",
    "\n",
    "    outputs = [\n",
    "        {\n",
    "            \"type\": \"plot\",\n",
    "            \"id\": \"plot\",\n",
    "            \"control_id\": \"update_data\",\n",
    "            \"tab\": \"Plot\"},\n",
    "        {\n",
    "            \"type\": \"table\",\n",
    "            \"id\": \"table_id\",\n",
    "            \"control_id\": \"update_data\",\n",
    "            \"tab\": \"Table\",\n",
    "            \"on_page_load\": True\n",
    "        }\n",
    "    ]\n",
    "\n",
    "    # df.head()\n",
    "    \n",
    "    def getData(self, params):\n",
    "        \n",
    "        ticker = params['ticker']\n",
    "        area = int(params['area'])\n",
    "        year_first = int(params['year_first'])\n",
    "        year_second = int(params['year_second'])\n",
    "\n",
    "        week = (params['week'].split(','))\n",
    "        week_start = int(week[0].strip())  \n",
    "        week_end = int(week[1].strip())\n",
    "\n",
    "        final_df = main_df[(main_df['area'] == area) & \n",
    "                           (main_df['Year'] >= year_first) & (main_df['Year'] <= year_second) &\n",
    "                          (main_df['Week'] >= week_start) & (main_df['Week'] <= week_end)]\n",
    "\n",
    "        return final_df[['Year', 'Week',ticker]]\n",
    "    \n",
    "\n",
    "    def getPlot(self, params):\n",
    "        df_f = self.getData(params).set_index(['Year', 'Week'])\n",
    "        obj = df_f.plot(figsize=(15, 6))\n",
    "        fig = obj.get_figure()\n",
    "        \n",
    "        return fig"
   ],
   "id": "cca8ff5f8c72eb2b",
   "outputs": [],
   "execution_count": 5
  },
  {
   "metadata": {
    "jupyter": {
     "is_executing": true
    },
    "ExecuteTime": {
     "start_time": "2024-11-16T12:31:50.842313Z"
    }
   },
   "cell_type": "code",
   "source": [
    "app = SimpleApp()\n",
    "app.launch()"
   ],
   "id": "958654919212079d",
   "outputs": [
    {
     "name": "stderr",
     "output_type": "stream",
     "text": [
      "[16/Nov/2024:14:31:50] ENGINE Listening for SIGTERM.\n",
      "INFO:cherrypy.error:[16/Nov/2024:14:31:50] ENGINE Listening for SIGTERM.\n",
      "[16/Nov/2024:14:31:50] ENGINE Bus STARTING\n",
      "INFO:cherrypy.error:[16/Nov/2024:14:31:50] ENGINE Bus STARTING\n",
      "[16/Nov/2024:14:31:50] ENGINE Set handler for console events.\n",
      "INFO:cherrypy.error:[16/Nov/2024:14:31:50] ENGINE Set handler for console events.\n",
      "CherryPy Checker:\n",
      "The Application mounted at '' has an empty config.\n",
      "\n",
      "[16/Nov/2024:14:31:50] ENGINE Started monitor thread 'Autoreloader'.\n",
      "INFO:cherrypy.error:[16/Nov/2024:14:31:50] ENGINE Started monitor thread 'Autoreloader'.\n",
      "[16/Nov/2024:14:31:51] ENGINE Serving on http://127.0.0.1:8080\n",
      "INFO:cherrypy.error:[16/Nov/2024:14:31:51] ENGINE Serving on http://127.0.0.1:8080\n",
      "[16/Nov/2024:14:31:51] ENGINE Bus STARTED\n",
      "INFO:cherrypy.error:[16/Nov/2024:14:31:51] ENGINE Bus STARTED\n"
     ]
    }
   ],
   "execution_count": null
  }
 ],
 "metadata": {
  "kernelspec": {
   "display_name": "Python 3",
   "language": "python",
   "name": "python3"
  },
  "language_info": {
   "codemirror_mode": {
    "name": "ipython",
    "version": 2
   },
   "file_extension": ".py",
   "mimetype": "text/x-python",
   "name": "python",
   "nbconvert_exporter": "python",
   "pygments_lexer": "ipython2",
   "version": "2.7.6"
  }
 },
 "nbformat": 4,
 "nbformat_minor": 5
}
